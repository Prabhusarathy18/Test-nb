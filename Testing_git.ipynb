{
  "nbformat": 4,
  "nbformat_minor": 0,
  "metadata": {
    "colab": {
      "name": "Testing-git.ipynb",
      "provenance": [],
      "collapsed_sections": [],
      "authorship_tag": "ABX9TyPfH4ZEm+mz4qdIpjY0PuiL",
      "include_colab_link": true
    },
    "kernelspec": {
      "name": "python3",
      "display_name": "Python 3"
    }
  },
  "cells": [
    {
      "cell_type": "markdown",
      "metadata": {
        "id": "view-in-github",
        "colab_type": "text"
      },
      "source": [
        "<a href=\"https://colab.research.google.com/github/Prabhusarathy18/Test-nb/blob/main/Testing_git.ipynb\" target=\"_parent\"><img src=\"https://colab.research.google.com/assets/colab-badge.svg\" alt=\"Open In Colab\"/></a>"
      ]
    },
    {
      "cell_type": "code",
      "metadata": {
        "colab": {
          "base_uri": "https://localhost:8080/"
        },
        "id": "R3Nvf2lfNvFT",
        "outputId": "e1fd02d7-ef70-4ba7-a6ad-beb08b7560ed"
      },
      "source": [
        "#@title\n",
        "variable_name = \"Hello world\" #@param {type:\"string\"}\n",
        "import time\n",
        "\n",
        "def test(self):\n",
        "  print(\"Sarathy\")\n",
        "\n",
        "\n",
        "time.sleep(20)\n",
        "def test1():\n",
        "  print(\"Nothing\")\n",
        "\n",
        "def test2():\n",
        "  print(\"Noting much\")\n",
        "  \n",
        "print(\"Hii brother!\")"
      ],
      "execution_count": 5,
      "outputs": [
        {
          "output_type": "stream",
          "text": [
            "Hii brother!\n"
          ],
          "name": "stdout"
        }
      ]
    },
    {
      "cell_type": "markdown",
      "metadata": {
        "id": "WunVJF_xObwz"
      },
      "source": [
        "# New section"
      ]
    },
    {
      "cell_type": "markdown",
      "metadata": {
        "id": "lt05NRAaOcR8"
      },
      "source": [
        "# New section"
      ]
    },
    {
      "cell_type": "code",
      "metadata": {
        "id": "9FgkH38kOJ5o"
      },
      "source": [
        "def test3(self):\n",
        "  print(\"sarathy\")"
      ],
      "execution_count": 4,
      "outputs": []
    },
    {
      "cell_type": "code",
      "metadata": {
        "id": "0XNUL65fPXne"
      },
      "source": [
        ""
      ],
      "execution_count": null,
      "outputs": []
    }
  ]
}